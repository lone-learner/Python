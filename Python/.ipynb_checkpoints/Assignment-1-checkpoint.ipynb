{
 "cells": [
  {
   "cell_type": "markdown",
   "metadata": {},
   "source": [
    "   # Assignment - 1"
   ]
  },
  {
   "cell_type": "markdown",
   "metadata": {},
   "source": [
    "## 1. In the below elements which of them are values or an expression? eg:- values can be integer or string and expressions will be mathematical operators.\n",
    "\n",
    "*\n",
    "\n",
    "'hello'\n",
    "\n",
    "-87.8\n",
    "\n",
    "-\n",
    "\n",
    "/\n",
    "\n",
    "+\n",
    "\n",
    "6\n",
    "\n",
    "\n",
    "###  Expressions are *,-,/,+ \n",
    "\n",
    "### Values are 'hello',-87.8,6\n"
   ]
  },
  {
   "cell_type": "markdown",
   "metadata": {},
   "source": [
    "## 2. What is the difference between string and variable?\n",
    "\n",
    "### Variable is a container/entity that is used to store data values in the main memory whereas string is sequence of characters that is enclosed within single quotes or double quotes."
   ]
  },
  {
   "cell_type": "markdown",
   "metadata": {},
   "source": [
    "## 3. Describe three different data types.\n",
    "\n",
    "\n",
    "### 1) int --- Integer data type, that store numerical value. e.g 12,10,5\n",
    "### 2) str --- represents sequence of characters enclosed within either single or double quotes. e.g 'hello'\n",
    "### 3) bool --- Boolean value e.g True,False"
   ]
  },
  {
   "cell_type": "markdown",
   "metadata": {},
   "source": [
    "## 4. What is an expression made up of? What do all expressions do?\n",
    "\n",
    "\n",
    "### An expression is a combination of operators and operands that is interpreted to produce some other value."
   ]
  },
  {
   "cell_type": "markdown",
   "metadata": {},
   "source": [
    "## 5. This assignment statements, like spam = 10. What is the difference between an expression and a statement?\n",
    "\n",
    "\n",
    "### Expression is made up of values, containers, and mathematical operators (operands) and the statement is just like a command that a python interpreter executes like print."
   ]
  },
  {
   "cell_type": "markdown",
   "metadata": {},
   "source": [
    "## 6. After running the following code, what does the variable bacon contain?\n",
    " bacon = 22\n",
    " \n",
    " bacon + 1\n",
    "\n",
    "\n",
    "### It will return 23 as result"
   ]
  },
  {
   "cell_type": "code",
   "execution_count": 17,
   "metadata": {},
   "outputs": [
    {
     "data": {
      "text/plain": [
       "23"
      ]
     },
     "execution_count": 17,
     "metadata": {},
     "output_type": "execute_result"
    }
   ],
   "source": [
    "\n",
    "bacon = 22\n",
    "bacon + 1\n"
   ]
  },
  {
   "cell_type": "markdown",
   "metadata": {},
   "source": [
    "## 7. What should the values of the following two terms be?\n",
    "'spam' + 'spamspam'\n",
    "'spam' * 3\n",
    "\n",
    "\n",
    "### It would result 'spamspamspam' for both."
   ]
  },
  {
   "cell_type": "markdown",
   "metadata": {},
   "source": [
    "## 8. Why is eggs a valid variable name while 100 is invalid?\n",
    "\n",
    "### It is because a variable name can begin with only underscore,a lower case or upper case character."
   ]
  },
  {
   "cell_type": "markdown",
   "metadata": {},
   "source": [
    "## 9. What three functions can be used to get the integer, floating-point number, or string version of a value?\n",
    "\n",
    "### For integer int(), float() for floating point number and str() for strings."
   ]
  },
  {
   "cell_type": "markdown",
   "metadata": {},
   "source": [
    "## 10. Why does this expression cause an error? How can you fix it?\n",
    "'I have eaten ' + 99 + ' burritos.'\n",
    "\n",
    "###  Concatination can only happen between string and here in above expression 99 is an integer, hence it will raise error. To fix the error we have to write 99 within quotes like 'I have eaten ' + '99' + ' burritos.'\n"
   ]
  }
 ],
 "metadata": {
  "kernelspec": {
   "display_name": "Python 3",
   "language": "python",
   "name": "python3"
  },
  "language_info": {
   "codemirror_mode": {
    "name": "ipython",
    "version": 3
   },
   "file_extension": ".py",
   "mimetype": "text/x-python",
   "name": "python",
   "nbconvert_exporter": "python",
   "pygments_lexer": "ipython3",
   "version": "3.8.5"
  }
 },
 "nbformat": 4,
 "nbformat_minor": 4
}
